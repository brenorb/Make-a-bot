{
 "cells": [
  {
   "cell_type": "markdown",
   "metadata": {},
   "source": [
    "# IMDB"
   ]
  },
  {
   "cell_type": "code",
   "execution_count": 1,
   "metadata": {},
   "outputs": [],
   "source": [
    "%reload_ext autoreload\n",
    "%autoreload 2\n",
    "%matplotlib inline"
   ]
  },
  {
   "cell_type": "code",
   "execution_count": 2,
   "metadata": {},
   "outputs": [],
   "source": [
    "from fastai.text import *\n",
    "import pandas as pd\n",
    "from pathlib import Path\n",
    "from sklearn.metrics import classification_report"
   ]
  },
  {
   "cell_type": "code",
   "execution_count": 3,
   "metadata": {},
   "outputs": [],
   "source": [
    "#ajustando os caminhos que serão utilizados\n",
    "\n",
    "datapath = Path('../data')\n",
    "modelspath = Path('../models')\n",
    "path = Path('../')\n",
    "best_model_path = Path('../models/bestmodel30k')"
   ]
  },
  {
   "cell_type": "code",
   "execution_count": 4,
   "metadata": {},
   "outputs": [
    {
     "name": "stdout",
     "output_type": "stream",
     "text": [
      "  % Total    % Received % Xferd  Average Speed   Time    Time     Time  Current\n",
      "                                 Dload  Upload   Total   Spent    Left  Speed\n",
      "100 52.2M  100 52.2M    0     0  44.3M      0  0:00:01  0:00:01 --:--:-- 44.3M\n",
      "  % Total    % Received % Xferd  Average Speed   Time    Time     Time  Current\n",
      "                                 Dload  Upload   Total   Spent    Left  Speed\n",
      "100  411M  100  411M    0     0  41.9M      0  0:00:09  0:00:09 --:--:-- 57.0M\n",
      "  % Total    % Received % Xferd  Average Speed   Time    Time     Time  Current\n",
      "                                 Dload  Upload   Total   Spent    Left  Speed\n",
      "100  516k  100  516k    0     0  4197k      0 --:--:-- --:--:-- --:--:-- 4197k\n"
     ]
    }
   ],
   "source": [
    "#Criar as pastas\n",
    "!mkdir ../data/\n",
    "!mkdir ../models\n",
    "# Download dos dados\n",
    "#!curl https://storage.googleapis.com/gde-dl-bsb/data/reclamacoes.csv -o ../data/reclamacoes.csv\n",
    "# Download do modelo em portugues pretreinado na wikipedia\n",
    "!curl https://storage.googleapis.com/gde-dl-bsb/models/bestmodel30k.pth -o ../models/bestmodel30k.pth\n",
    "# Download do vocabulário\n",
    "!curl https://storage.googleapis.com/gde-dl-bsb/models/itos.pkl -o ../models/itos.pkl"
   ]
  },
  {
   "cell_type": "code",
   "execution_count": 4,
   "metadata": {},
   "outputs": [],
   "source": [
    "tweets = 'RNNdata/jairbolsonaro_tweets.txt'\n",
    "def readnums(d): return [' '.join(o.strip() for o in open(d).readlines())]\n",
    "#readnums(tweets)"
   ]
  },
  {
   "cell_type": "code",
   "execution_count": 5,
   "metadata": {},
   "outputs": [],
   "source": [
    "t = readnums(tweets)\n",
    "train_txt = valid_txt = []\n",
    "train_txt.append(t[0][:360000])\n",
    "valid_txt.append(t[0][360000:])\n"
   ]
  },
  {
   "cell_type": "code",
   "execution_count": 6,
   "metadata": {},
   "outputs": [],
   "source": [
    "bs = 64\n",
    "#path = 'RNNdata'\n",
    "\n",
    "train = TextList(list(train_txt), path=path); print(type(train))\n",
    "valid = TextList(list(valid_txt), path=path); print(type(valid_txt))\n",
    "\n",
    "src = ItemLists(path=path, train=train, valid=valid).label_for_lm()\n",
    "data = src.databunch(bs=bs)"
   ]
  },
  {
   "cell_type": "code",
   "execution_count": 7,
   "metadata": {},
   "outputs": [
    {
     "data": {
      "text/plain": [
       "'xxbos xxmaj aguardando a xxmaj folha publicar algo a respeito . xxmaj obrigado x'"
      ]
     },
     "execution_count": 7,
     "metadata": {},
     "output_type": "execute_result"
    }
   ],
   "source": [
    "#for i in range(80): print(train[i].text)\n",
    "train[0].text[:80]"
   ]
  },
  {
   "cell_type": "code",
   "execution_count": 8,
   "metadata": {},
   "outputs": [
    {
     "data": {
      "text/plain": [
       "78673"
      ]
     },
     "execution_count": 8,
     "metadata": {},
     "output_type": "execute_result"
    }
   ],
   "source": [
    "len(data.valid_ds[0][0].data)"
   ]
  },
  {
   "cell_type": "code",
   "execution_count": 9,
   "metadata": {},
   "outputs": [
    {
     "data": {
      "text/plain": [
       "(70, 18)"
      ]
     },
     "execution_count": 9,
     "metadata": {},
     "output_type": "execute_result"
    }
   ],
   "source": [
    "data.bptt, len(data.valid_dl)"
   ]
  },
  {
   "cell_type": "code",
   "execution_count": 10,
   "metadata": {},
   "outputs": [
    {
     "data": {
      "text/plain": [
       "2.905580357142857"
      ]
     },
     "execution_count": 10,
     "metadata": {},
     "output_type": "execute_result"
    }
   ],
   "source": [
    "13017/70/bs"
   ]
  },
  {
   "cell_type": "code",
   "execution_count": 11,
   "metadata": {},
   "outputs": [],
   "source": [
    "it = iter(data.valid_dl)\n",
    "x1,y1 = next(it)\n",
    "x2,y2 = next(it)\n",
    "x3,y3 = next(it)\n",
    "it.close()"
   ]
  },
  {
   "cell_type": "code",
   "execution_count": 12,
   "metadata": {},
   "outputs": [
    {
     "data": {
      "text/plain": [
       "13440"
      ]
     },
     "execution_count": 12,
     "metadata": {},
     "output_type": "execute_result"
    }
   ],
   "source": [
    "x1.numel()+x2.numel()+x3.numel()"
   ]
  },
  {
   "cell_type": "code",
   "execution_count": 13,
   "metadata": {},
   "outputs": [],
   "source": [
    "data = src.databunch(bs=bs, bptt=3)"
   ]
  },
  {
   "cell_type": "code",
   "execution_count": 14,
   "metadata": {},
   "outputs": [
    {
     "data": {
      "text/plain": [
       "(torch.Size([64, 3]), torch.Size([64, 3]))"
      ]
     },
     "execution_count": 14,
     "metadata": {},
     "output_type": "execute_result"
    }
   ],
   "source": [
    "x,y = data.one_batch()\n",
    "x.shape,y.shape"
   ]
  },
  {
   "cell_type": "code",
   "execution_count": 16,
   "metadata": {},
   "outputs": [],
   "source": [
    "tokenizer = Tokenizer(lang='pt', n_cpus=8)\n",
    "#vocabulario\n",
    "with modelspath.joinpath('itos.pkl').open('rb') as f:\n",
    "    itos = pickle.load(f)\n",
    "vocab = Vocab(itos)\n"
   ]
  },
  {
   "cell_type": "code",
   "execution_count": 18,
   "metadata": {},
   "outputs": [],
   "source": [
    "learn = language_model_learner(data, arch=AWD_LSTM, pretrained_fnames=(best_model_path,modelspath.joinpath('itos')))"
   ]
  },
  {
   "cell_type": "code",
   "execution_count": 25,
   "metadata": {},
   "outputs": [
    {
     "data": {
      "text/html": [],
      "text/plain": [
       "<IPython.core.display.HTML object>"
      ]
     },
     "metadata": {},
     "output_type": "display_data"
    },
    {
     "name": "stdout",
     "output_type": "stream",
     "text": [
      "LR Finder is complete, type {learner_name}.recorder.plot() to see the graph.\n"
     ]
    }
   ],
   "source": [
    "learn.lr_find()"
   ]
  },
  {
   "cell_type": "code",
   "execution_count": 26,
   "metadata": {},
   "outputs": [
    {
     "data": {
      "image/png": "[encoded data removed]",
      "text/plain": [
       "<Figure size 432x288 with 1 Axes>"
      ]
     },
     "metadata": {
      "needs_background": "light"
     },
     "output_type": "display_data"
    }
   ],
   "source": [
    "learn.recorder.plot()"
   ]
  },
  {
   "cell_type": "code",
   "execution_count": 21,
   "metadata": {},
   "outputs": [
    {
     "data": {
      "text/html": [
       "<table border=\"1\" class=\"dataframe\">\n",
       "  <thead>\n",
       "    <tr style=\"text-align: left;\">\n",
       "      <th>epoch</th>\n",
       "      <th>train_loss</th>\n",
       "      <th>valid_loss</th>\n",
       "      <th>accuracy</th>\n",
       "      <th>time</th>\n",
       "    </tr>\n",
       "  </thead>\n",
       "  <tbody>\n",
       "    <tr>\n",
       "      <td>0</td>\n",
       "      <td>4.495907</td>\n",
       "      <td>3.724232</td>\n",
       "      <td>0.284642</td>\n",
       "      <td>00:08</td>\n",
       "    </tr>\n",
       "  </tbody>\n",
       "</table>"
      ],
      "text/plain": [
       "<IPython.core.display.HTML object>"
      ]
     },
     "metadata": {},
     "output_type": "display_data"
    }
   ],
   "source": [
    "learn.fit_one_cycle(1, max_lr=5e-2)"
   ]
  },
  {
   "cell_type": "code",
   "execution_count": 22,
   "metadata": {},
   "outputs": [
    {
     "data": {
      "text/html": [
       "<table border=\"1\" class=\"dataframe\">\n",
       "  <thead>\n",
       "    <tr style=\"text-align: left;\">\n",
       "      <th>epoch</th>\n",
       "      <th>train_loss</th>\n",
       "      <th>valid_loss</th>\n",
       "      <th>accuracy</th>\n",
       "      <th>time</th>\n",
       "    </tr>\n",
       "  </thead>\n",
       "  <tbody>\n",
       "    <tr>\n",
       "      <td>0</td>\n",
       "      <td>4.369942</td>\n",
       "      <td>3.713896</td>\n",
       "      <td>0.277807</td>\n",
       "      <td>00:08</td>\n",
       "    </tr>\n",
       "    <tr>\n",
       "      <td>1</td>\n",
       "      <td>4.675898</td>\n",
       "      <td>3.997610</td>\n",
       "      <td>0.260543</td>\n",
       "      <td>00:08</td>\n",
       "    </tr>\n",
       "    <tr>\n",
       "      <td>2</td>\n",
       "      <td>4.588928</td>\n",
       "      <td>3.779630</td>\n",
       "      <td>0.274226</td>\n",
       "      <td>00:08</td>\n",
       "    </tr>\n",
       "    <tr>\n",
       "      <td>3</td>\n",
       "      <td>4.108640</td>\n",
       "      <td>3.427363</td>\n",
       "      <td>0.304896</td>\n",
       "      <td>00:08</td>\n",
       "    </tr>\n",
       "    <tr>\n",
       "      <td>4</td>\n",
       "      <td>3.844518</td>\n",
       "      <td>3.338719</td>\n",
       "      <td>0.315110</td>\n",
       "      <td>00:08</td>\n",
       "    </tr>\n",
       "  </tbody>\n",
       "</table>"
      ],
      "text/plain": [
       "<IPython.core.display.HTML object>"
      ]
     },
     "metadata": {},
     "output_type": "display_data"
    }
   ],
   "source": [
    "learn.fit_one_cycle(5, max_lr=5e-2)"
   ]
  },
  {
   "cell_type": "code",
   "execution_count": 23,
   "metadata": {},
   "outputs": [
    {
     "data": {
      "text/html": [
       "<table border=\"1\" class=\"dataframe\">\n",
       "  <thead>\n",
       "    <tr style=\"text-align: left;\">\n",
       "      <th>epoch</th>\n",
       "      <th>train_loss</th>\n",
       "      <th>valid_loss</th>\n",
       "      <th>accuracy</th>\n",
       "      <th>time</th>\n",
       "    </tr>\n",
       "  </thead>\n",
       "  <tbody>\n",
       "    <tr>\n",
       "      <td>0</td>\n",
       "      <td>4.103928</td>\n",
       "      <td>3.561901</td>\n",
       "      <td>0.290254</td>\n",
       "      <td>00:08</td>\n",
       "    </tr>\n",
       "    <tr>\n",
       "      <td>1</td>\n",
       "      <td>4.673778</td>\n",
       "      <td>4.009729</td>\n",
       "      <td>0.252510</td>\n",
       "      <td>00:08</td>\n",
       "    </tr>\n",
       "    <tr>\n",
       "      <td>2</td>\n",
       "      <td>4.672981</td>\n",
       "      <td>3.841319</td>\n",
       "      <td>0.269837</td>\n",
       "      <td>00:08</td>\n",
       "    </tr>\n",
       "    <tr>\n",
       "      <td>3</td>\n",
       "      <td>4.299212</td>\n",
       "      <td>3.548083</td>\n",
       "      <td>0.293331</td>\n",
       "      <td>00:08</td>\n",
       "    </tr>\n",
       "    <tr>\n",
       "      <td>4</td>\n",
       "      <td>3.998785</td>\n",
       "      <td>3.457350</td>\n",
       "      <td>0.302966</td>\n",
       "      <td>00:08</td>\n",
       "    </tr>\n",
       "  </tbody>\n",
       "</table>"
      ],
      "text/plain": [
       "<IPython.core.display.HTML object>"
      ]
     },
     "metadata": {},
     "output_type": "display_data"
    }
   ],
   "source": [
    "learn.fit_one_cycle(5, max_lr=5e-2)"
   ]
  },
  {
   "cell_type": "code",
   "execution_count": 35,
   "metadata": {},
   "outputs": [],
   "source": [
    "TEXT = \"Brasil acima de toods, Deus acima de tudo\"\n",
    "N_WORDS = 20\n",
    "N_SENTENCES = 5"
   ]
  },
  {
   "cell_type": "code",
   "execution_count": 36,
   "metadata": {},
   "outputs": [
    {
     "name": "stdout",
     "output_type": "stream",
     "text": [
      "Brasil acima de toods, Deus acima de tudo ! Deus acima de todos ! Nós temos a chance de mudar o Brasil ! Recebi\n",
      "Brasil acima de toods, Deus acima de tudo ! Ainda há muito a fazer fazer ! Seguimos adiante ! Esse carinho ! Meus parabéns\n",
      "Brasil acima de toods, Deus acima de tudo ! Nossa missão é expandir a troca de fogo e a garantia de um país . Jamais foi\n",
      "Brasil acima de toods, Deus acima de tudo ! Vamos agir ! Brazil a Deus ! Vamos em frente ! Vamos juntos mudar\n",
      "Brasil acima de toods, Deus acima de tudo e a população brasileira ! Estaremos kkkkk Que Deus continue a todos ! Estamos\n"
     ]
    }
   ],
   "source": [
    "print(\"\\n\".join(learn.predict(TEXT, N_WORDS, temperature=0.75) for _ in range(N_SENTENCES)))"
   ]
  },
  {
   "cell_type": "code",
   "execution_count": 39,
   "metadata": {},
   "outputs": [
    {
     "name": "stdout",
     "output_type": "stream",
     "text": [
      "A reforma da previdência , em Brasília , Presidente , Ministros e Japão . Garantia de Brasília ! Vamos adiante ! Vamos adiante ! Um forte abraço , Santa Catarina . Um forte abraço a todos e até lá ! Vamos\n",
      "A reforma da previdência : Esse carinho e a liberdade de cada um de nós , ou a liberdade de imprensa . Não há muito o que fazer ! Vamos juntos mudar o Brasil ! Vamos juntos mudar o Brasil ! Um forte abraço a todos !\n",
      "A reforma da previdência ! Com a palavra a Folha de São Paulo , que vou aumentar imposto pra pobre , mas já que não existe apoio ! Estamos no mesmo barco e mesmo com menos de um mês de governo e nós temos tudo ! Vamos juntos\n",
      "A reforma da previdência como a Folha de São Paulo e a Folha de São Paulo , além de garantir a Folha de SP , Folha de São Paulo . Boa noite a todos ! Obrigado pela confiança e consideração !\n",
      "A reforma da previdência : Não há nada com os ministros , mas também , Deus acima de tudo ! Vamos adiante . Vamos juntos mudar o Brasil ! Obrigado Santa Catarina ! Obrigado Belém , Rio de Janeiro ! -\n"
     ]
    }
   ],
   "source": [
    "TEXT = \"A reforma da previdência\"\n",
    "N_WORDS = 50\n",
    "N_SENTENCES = 5\n",
    "print(\"\\n\".join(learn.predict(TEXT, N_WORDS, temperature=0.50) for _ in range(N_SENTENCES)))"
   ]
  },
  {
   "cell_type": "code",
   "execution_count": 43,
   "metadata": {},
   "outputs": [
    {
     "name": "stdout",
     "output_type": "stream",
     "text": [
      "A esquerda , como se os Ministros e os ministros , sem segurança pública , ou como as sociais do Brasil . Nós somos esse projeto não pode parar ! Obrigado Rondonópolis ! Um forte abraço a todos ! Obrigado Belém ! Um\n",
      "A esquerda , a população brasileira , que faz parte do INSS . Boa tarde a todos ! Um forte abraço a todos ! Parabéns a todos pela consideração ! Um forte abraço a todos ! Estamos no mesmo barco , mesmo com menos claro que\n",
      "A esquerda , a esquerda age , mas sociedade , ou se eu mesmo . Estamos no mesmo barco , principalmente em meu governo ! 🇧 🇷 👍 🏻 Boa noite a todos ! 👍 🏻 Obrigado Salvador ! a Folha de SP não pode parar\n",
      "A esquerda , na Câmara Federal , agora , agora , por favor do Ministério da Educação , na Câmara Federal . Força , Professor e Segurança Pública . Um forte abraço a todos ! Temos buscado nomes qualificados para\n",
      "A esquerda , Presidente Eleito , em Brasília e Brasil ! Nos vemos lá ! Deus acima de todos ! Vamos juntos mudar o Brasil ! Obrigado pela homenagem ! Vamos juntos mudar o Brasil ! Obrigado Pará !\n"
     ]
    }
   ],
   "source": [
    "TEXT = \"A esquerda\"\n",
    "N_WORDS = 50\n",
    "N_SENTENCES = 5\n",
    "print(\"\\n\".join(learn.predict(TEXT, N_WORDS, temperature=0.50) for _ in range(N_SENTENCES)))"
   ]
  },
  {
   "cell_type": "code",
   "execution_count": 41,
   "metadata": {},
   "outputs": [],
   "source": [
    "learn.save('Bolsobot')"
   ]
  },
  {
   "cell_type": "code",
   "execution_count": 44,
   "metadata": {},
   "outputs": [
    {
     "name": "stdout",
     "output_type": "stream",
     "text": [
      "Grande dia , redução de impostos , aumento de 8 % , redução de impostos , investimentos , investimentos e segurança . Mais uma vez , em especial aos trilhos da Folha de São Paulo , além de garantir importantes . Vamos juntos mudar o Brasil\n",
      "Grande dia : Não é uma facção criminosa para ser comandado de dentro da cadeia ! Vamos adiante ! Vamos juntos mudar o Brasil ! Quem não sou o Foro de SP . Esse é o Brasil . Um forte abraço !\n",
      "Grande dia a todos ! Obrigado Belém . Obrigado Belém ! Juntos , em Brasília , em Curitiba , General Mourão , em Goiás , Paraíba , Ceará , Chile , Chile . Temos buscado independência para\n",
      "Grande dia ! Os que querem a cada um de nós que o Brasil volte . FHC mesmo para ser comandado de um povo . Estamos no mesmo barco e mesmo para ser o Brasil . Brasil acima de tudo ! Um forte abraço a\n",
      "Grande dia ! Um forte abraço a todos ! Boa noite a todos ! Vamos mudar o Brasil ! Sábado : Os estudos estão nas ruas de Brasília , Estados Unidos , Japão , Sul , Japão , Chile\n"
     ]
    }
   ],
   "source": [
    "TEXT = \"Grande dia\"\n",
    "N_WORDS = 50\n",
    "N_SENTENCES = 5\n",
    "print(\"\\n\".join(learn.predict(TEXT, N_WORDS, temperature=0.50) for _ in range(N_SENTENCES)))"
   ]
  },
  {
   "cell_type": "code",
   "execution_count": 47,
   "metadata": {},
   "outputs": [
    {
     "name": "stdout",
     "output_type": "stream",
     "text": [
      "Kit gay e internet ! a mentira é uma das principais principais mentiras que a população fica possa ser um dos mais importantes da história . Das Forças Armadas e Lava - Jato . Nosso país não tenho obsessão pela responsabilidade , que é de hoje\n",
      "Kit gay e internet que o apoio é tanto com a população . Estamos mostrando o que era muitos filhos do Brasil . Boa noite a todos ! Nossa missão é fazer diferente com a verdade , além de fazer a Lava Jato sobre o que\n",
      "Kit gay para o Brasil e o povo até o fim de 2019 , hoje há quase 8 anos para se transformar em países de crianças ! Brasil acima de tudo , propriedade privada , aeroportos , ferrovias e corrupção ) . Um forte abraço , todos queremos !\n",
      "Kit gay , Gestão , FAMÍLIA , Sul e Estados Unidos , Marina Silva , Suíça , Chile , MT e MP POR CORRUPÇÃO ) ! Por isso tentam o que foi para participar de um Brasil\n",
      "Kit gay em parceria com poucos startups ! Nossa é a diferença , o mesmo de outros órgãos do governo . - Pela manhã , sou presidente . Essa é a minha favor , o criminoso deles tem , marketeiros , etc . Quando querem ser deus .\n"
     ]
    }
   ],
   "source": [
    "TEXT = \"Kit gay\"\n",
    "N_WORDS = 50\n",
    "N_SENTENCES = 5\n",
    "print(\"\\n\".join(learn.predict(TEXT, N_WORDS, temperature=0.80) for _ in range(N_SENTENCES)))"
   ]
  },
  {
   "cell_type": "code",
   "execution_count": null,
   "metadata": {},
   "outputs": [],
   "source": []
  }
 ],
 "metadata": {
  "kernelspec": {
   "display_name": "Python 3",
   "language": "python",
   "name": "python3"
  },
  "language_info": {
   "codemirror_mode": {
    "name": "ipython",
    "version": 3
   },
   "file_extension": ".py",
   "mimetype": "text/x-python",
   "name": "python",
   "nbconvert_exporter": "python",
   "pygments_lexer": "ipython3",
   "version": "3.6.7"
  }
 },
 "nbformat": 4,
 "nbformat_minor": 2
}
